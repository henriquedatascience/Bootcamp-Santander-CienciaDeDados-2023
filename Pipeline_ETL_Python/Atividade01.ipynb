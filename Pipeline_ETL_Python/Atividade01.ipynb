{
 "cells": [
  {
   "cell_type": "markdown",
   "id": "5bb12e91",
   "metadata": {},
   "source": [
    "# Pipeline ELT em Python"
   ]
  },
  {
   "cell_type": "markdown",
   "id": "45ebfe20",
   "metadata": {},
   "source": [
    "O objetivo deste projeto é fazer um pipeline básiso de ETL utilizando python importando dados de um formato csv, fazer a transformação criando uma nova coluna e depois exportar para um banco de dados."
   ]
  },
  {
   "cell_type": "markdown",
   "id": "00cd778b",
   "metadata": {},
   "source": [
    "## Importando Pacotes"
   ]
  },
  {
   "cell_type": "code",
   "execution_count": 1,
   "id": "caf1d14f",
   "metadata": {},
   "outputs": [],
   "source": [
    "import pandas as pd\n",
    "import chardet\n",
    "import sqlite3"
   ]
  },
  {
   "cell_type": "markdown",
   "id": "dedef7a6",
   "metadata": {},
   "source": [
    "## Extract"
   ]
  },
  {
   "cell_type": "code",
   "execution_count": 2,
   "id": "8f9fbeee",
   "metadata": {},
   "outputs": [],
   "source": [
    "# Usando chardet para detectar a codificação\n",
    "with open('dados/Football_Stadiums.csv', 'rb') as arquivo:\n",
    "    encoding = chardet.detect(arquivo.read())\n",
    "\n",
    "# A codificação é armazenada no atributo 'encoding' do resultado\n",
    "encod = encoding['encoding']"
   ]
  },
  {
   "cell_type": "code",
   "execution_count": 3,
   "id": "5ec0b91c",
   "metadata": {},
   "outputs": [
    {
     "data": {
      "text/html": [
       "<div>\n",
       "<style scoped>\n",
       "    .dataframe tbody tr th:only-of-type {\n",
       "        vertical-align: middle;\n",
       "    }\n",
       "\n",
       "    .dataframe tbody tr th {\n",
       "        vertical-align: top;\n",
       "    }\n",
       "\n",
       "    .dataframe thead th {\n",
       "        text-align: right;\n",
       "    }\n",
       "</style>\n",
       "<table border=\"1\" class=\"dataframe\">\n",
       "  <thead>\n",
       "    <tr style=\"text-align: right;\">\n",
       "      <th></th>\n",
       "      <th>S.No</th>\n",
       "      <th>Confederation</th>\n",
       "      <th>Stadium</th>\n",
       "      <th>City</th>\n",
       "      <th>HomeTeams</th>\n",
       "      <th>Capacity</th>\n",
       "      <th>Country</th>\n",
       "      <th>IOC</th>\n",
       "    </tr>\n",
       "  </thead>\n",
       "  <tbody>\n",
       "    <tr>\n",
       "      <th>0</th>\n",
       "      <td>1</td>\n",
       "      <td>UEFA</td>\n",
       "      <td>Stadiumi Besëlidhja</td>\n",
       "      <td>Lezhë</td>\n",
       "      <td>Besëlidhja</td>\n",
       "      <td>7000</td>\n",
       "      <td>Albania</td>\n",
       "      <td>ALB</td>\n",
       "    </tr>\n",
       "    <tr>\n",
       "      <th>1</th>\n",
       "      <td>2</td>\n",
       "      <td>UEFA</td>\n",
       "      <td>Stadiumi Flamurtari</td>\n",
       "      <td>Vlorë</td>\n",
       "      <td>Flamurtari Vlorë</td>\n",
       "      <td>8200</td>\n",
       "      <td>Albania</td>\n",
       "      <td>ALB</td>\n",
       "    </tr>\n",
       "    <tr>\n",
       "      <th>2</th>\n",
       "      <td>3</td>\n",
       "      <td>UEFA</td>\n",
       "      <td>Stadiumi Laçi</td>\n",
       "      <td>Laçi</td>\n",
       "      <td>KF Laçi</td>\n",
       "      <td>5000</td>\n",
       "      <td>Albania</td>\n",
       "      <td>ALB</td>\n",
       "    </tr>\n",
       "    <tr>\n",
       "      <th>3</th>\n",
       "      <td>4</td>\n",
       "      <td>UEFA</td>\n",
       "      <td>Stadiumi Niko Dovana</td>\n",
       "      <td>Durrës</td>\n",
       "      <td>Teuta</td>\n",
       "      <td>12040</td>\n",
       "      <td>Albania</td>\n",
       "      <td>ALB</td>\n",
       "    </tr>\n",
       "    <tr>\n",
       "      <th>4</th>\n",
       "      <td>5</td>\n",
       "      <td>UEFA</td>\n",
       "      <td>Stadiumi Selman Stërmasi</td>\n",
       "      <td>Tirana</td>\n",
       "      <td>KF Tirana, Dinamo, Partizani</td>\n",
       "      <td>9500</td>\n",
       "      <td>Albania</td>\n",
       "      <td>ALB</td>\n",
       "    </tr>\n",
       "  </tbody>\n",
       "</table>\n",
       "</div>"
      ],
      "text/plain": [
       "   S.No Confederation                   Stadium    City  \\\n",
       "0     1          UEFA       Stadiumi Besëlidhja   Lezhë   \n",
       "1     2          UEFA       Stadiumi Flamurtari   Vlorë   \n",
       "2     3          UEFA             Stadiumi Laçi    Laçi   \n",
       "3     4          UEFA      Stadiumi Niko Dovana  Durrës   \n",
       "4     5          UEFA  Stadiumi Selman Stërmasi  Tirana   \n",
       "\n",
       "                      HomeTeams  Capacity  Country  IOC  \n",
       "0                    Besëlidhja      7000  Albania  ALB  \n",
       "1              Flamurtari Vlorë      8200  Albania  ALB  \n",
       "2                       KF Laçi      5000  Albania  ALB  \n",
       "3                         Teuta     12040  Albania  ALB  \n",
       "4  KF Tirana, Dinamo, Partizani      9500  Albania  ALB  "
      ]
     },
     "execution_count": 3,
     "metadata": {},
     "output_type": "execute_result"
    }
   ],
   "source": [
    "# Importando dados\n",
    "df = pd.read_csv('dados/Football_Stadiums.csv', encoding= encod)\n",
    "df.head()"
   ]
  },
  {
   "cell_type": "markdown",
   "id": "980c4a95",
   "metadata": {},
   "source": [
    "## Transform"
   ]
  },
  {
   "cell_type": "code",
   "execution_count": 4,
   "id": "13dc4880",
   "metadata": {},
   "outputs": [
    {
     "data": {
      "text/html": [
       "<div>\n",
       "<style scoped>\n",
       "    .dataframe tbody tr th:only-of-type {\n",
       "        vertical-align: middle;\n",
       "    }\n",
       "\n",
       "    .dataframe tbody tr th {\n",
       "        vertical-align: top;\n",
       "    }\n",
       "\n",
       "    .dataframe thead th {\n",
       "        text-align: right;\n",
       "    }\n",
       "</style>\n",
       "<table border=\"1\" class=\"dataframe\">\n",
       "  <thead>\n",
       "    <tr style=\"text-align: right;\">\n",
       "      <th></th>\n",
       "      <th>S.No</th>\n",
       "      <th>Confederation</th>\n",
       "      <th>Stadium</th>\n",
       "      <th>City</th>\n",
       "      <th>HomeTeams</th>\n",
       "      <th>Capacity</th>\n",
       "      <th>Country</th>\n",
       "      <th>IOC</th>\n",
       "      <th>Capacity_Order</th>\n",
       "    </tr>\n",
       "  </thead>\n",
       "  <tbody>\n",
       "    <tr>\n",
       "      <th>0</th>\n",
       "      <td>1</td>\n",
       "      <td>UEFA</td>\n",
       "      <td>Stadiumi Besëlidhja</td>\n",
       "      <td>Lezhë</td>\n",
       "      <td>Besëlidhja</td>\n",
       "      <td>7000</td>\n",
       "      <td>Albania</td>\n",
       "      <td>ALB</td>\n",
       "      <td>1364</td>\n",
       "    </tr>\n",
       "    <tr>\n",
       "      <th>1</th>\n",
       "      <td>2</td>\n",
       "      <td>UEFA</td>\n",
       "      <td>Stadiumi Flamurtari</td>\n",
       "      <td>Vlorë</td>\n",
       "      <td>Flamurtari Vlorë</td>\n",
       "      <td>8200</td>\n",
       "      <td>Albania</td>\n",
       "      <td>ALB</td>\n",
       "      <td>1287</td>\n",
       "    </tr>\n",
       "    <tr>\n",
       "      <th>2</th>\n",
       "      <td>3</td>\n",
       "      <td>UEFA</td>\n",
       "      <td>Stadiumi Laçi</td>\n",
       "      <td>Laçi</td>\n",
       "      <td>KF Laçi</td>\n",
       "      <td>5000</td>\n",
       "      <td>Albania</td>\n",
       "      <td>ALB</td>\n",
       "      <td>1498</td>\n",
       "    </tr>\n",
       "    <tr>\n",
       "      <th>3</th>\n",
       "      <td>4</td>\n",
       "      <td>UEFA</td>\n",
       "      <td>Stadiumi Niko Dovana</td>\n",
       "      <td>Durrës</td>\n",
       "      <td>Teuta</td>\n",
       "      <td>12040</td>\n",
       "      <td>Albania</td>\n",
       "      <td>ALB</td>\n",
       "      <td>1062</td>\n",
       "    </tr>\n",
       "    <tr>\n",
       "      <th>4</th>\n",
       "      <td>5</td>\n",
       "      <td>UEFA</td>\n",
       "      <td>Stadiumi Selman Stërmasi</td>\n",
       "      <td>Tirana</td>\n",
       "      <td>KF Tirana, Dinamo, Partizani</td>\n",
       "      <td>9500</td>\n",
       "      <td>Albania</td>\n",
       "      <td>ALB</td>\n",
       "      <td>1232</td>\n",
       "    </tr>\n",
       "  </tbody>\n",
       "</table>\n",
       "</div>"
      ],
      "text/plain": [
       "   S.No Confederation                   Stadium    City  \\\n",
       "0     1          UEFA       Stadiumi Besëlidhja   Lezhë   \n",
       "1     2          UEFA       Stadiumi Flamurtari   Vlorë   \n",
       "2     3          UEFA             Stadiumi Laçi    Laçi   \n",
       "3     4          UEFA      Stadiumi Niko Dovana  Durrës   \n",
       "4     5          UEFA  Stadiumi Selman Stërmasi  Tirana   \n",
       "\n",
       "                      HomeTeams  Capacity  Country  IOC  Capacity_Order  \n",
       "0                    Besëlidhja      7000  Albania  ALB            1364  \n",
       "1              Flamurtari Vlorë      8200  Albania  ALB            1287  \n",
       "2                       KF Laçi      5000  Albania  ALB            1498  \n",
       "3                         Teuta     12040  Albania  ALB            1062  \n",
       "4  KF Tirana, Dinamo, Partizani      9500  Albania  ALB            1232  "
      ]
     },
     "execution_count": 4,
     "metadata": {},
     "output_type": "execute_result"
    }
   ],
   "source": [
    "# Criando nova coluna com as ordens da capacodade do estádio\n",
    "df['Capacity_Order'] = df['Capacity'].rank(ascending= False).astype(int)\n",
    "df.head()"
   ]
  },
  {
   "cell_type": "code",
   "execution_count": 5,
   "id": "6f2b8689",
   "metadata": {},
   "outputs": [
    {
     "data": {
      "text/html": [
       "<div>\n",
       "<style scoped>\n",
       "    .dataframe tbody tr th:only-of-type {\n",
       "        vertical-align: middle;\n",
       "    }\n",
       "\n",
       "    .dataframe tbody tr th {\n",
       "        vertical-align: top;\n",
       "    }\n",
       "\n",
       "    .dataframe thead th {\n",
       "        text-align: right;\n",
       "    }\n",
       "</style>\n",
       "<table border=\"1\" class=\"dataframe\">\n",
       "  <thead>\n",
       "    <tr style=\"text-align: right;\">\n",
       "      <th></th>\n",
       "      <th>S.No</th>\n",
       "      <th>Confederation</th>\n",
       "      <th>Stadium</th>\n",
       "      <th>City</th>\n",
       "      <th>HomeTeams</th>\n",
       "      <th>Capacity</th>\n",
       "      <th>Country</th>\n",
       "      <th>IOC</th>\n",
       "      <th>Capacity_Order</th>\n",
       "    </tr>\n",
       "  </thead>\n",
       "  <tbody>\n",
       "    <tr>\n",
       "      <th>1744</th>\n",
       "      <td>1745</td>\n",
       "      <td>CONCACAF</td>\n",
       "      <td>Michigan Stadium</td>\n",
       "      <td>Ann Arbor</td>\n",
       "      <td>Wolverines</td>\n",
       "      <td>107601</td>\n",
       "      <td>United States of America</td>\n",
       "      <td>USA</td>\n",
       "      <td>1</td>\n",
       "    </tr>\n",
       "    <tr>\n",
       "      <th>1686</th>\n",
       "      <td>1687</td>\n",
       "      <td>CONCACAF</td>\n",
       "      <td>Beaver Stadium</td>\n",
       "      <td>University Park</td>\n",
       "      <td>Penn State</td>\n",
       "      <td>106572</td>\n",
       "      <td>United States of America</td>\n",
       "      <td>USA</td>\n",
       "      <td>2</td>\n",
       "    </tr>\n",
       "    <tr>\n",
       "      <th>1752</th>\n",
       "      <td>1753</td>\n",
       "      <td>CONCACAF</td>\n",
       "      <td>Ohio Stadium</td>\n",
       "      <td>Columbus</td>\n",
       "      <td>Buckeyes</td>\n",
       "      <td>104944</td>\n",
       "      <td>United States of America</td>\n",
       "      <td>USA</td>\n",
       "      <td>3</td>\n",
       "    </tr>\n",
       "    <tr>\n",
       "      <th>1724</th>\n",
       "      <td>1725</td>\n",
       "      <td>CONCACAF</td>\n",
       "      <td>Kyle Field</td>\n",
       "      <td>College Station</td>\n",
       "      <td>Aggies</td>\n",
       "      <td>102733</td>\n",
       "      <td>United States of America</td>\n",
       "      <td>USA</td>\n",
       "      <td>4</td>\n",
       "    </tr>\n",
       "    <tr>\n",
       "      <th>1745</th>\n",
       "      <td>1746</td>\n",
       "      <td>CONCACAF</td>\n",
       "      <td>Neyland Stadium</td>\n",
       "      <td>Knoxville</td>\n",
       "      <td>Volunteers</td>\n",
       "      <td>102455</td>\n",
       "      <td>United States of America</td>\n",
       "      <td>USA</td>\n",
       "      <td>5</td>\n",
       "    </tr>\n",
       "  </tbody>\n",
       "</table>\n",
       "</div>"
      ],
      "text/plain": [
       "      S.No Confederation           Stadium             City   HomeTeams  \\\n",
       "1744  1745      CONCACAF  Michigan Stadium        Ann Arbor  Wolverines   \n",
       "1686  1687      CONCACAF    Beaver Stadium  University Park  Penn State   \n",
       "1752  1753      CONCACAF      Ohio Stadium         Columbus    Buckeyes   \n",
       "1724  1725      CONCACAF        Kyle Field  College Station      Aggies   \n",
       "1745  1746      CONCACAF   Neyland Stadium        Knoxville  Volunteers   \n",
       "\n",
       "      Capacity                   Country  IOC  Capacity_Order  \n",
       "1744    107601  United States of America  USA               1  \n",
       "1686    106572  United States of America  USA               2  \n",
       "1752    104944  United States of America  USA               3  \n",
       "1724    102733  United States of America  USA               4  \n",
       "1745    102455  United States of America  USA               5  "
      ]
     },
     "execution_count": 5,
     "metadata": {},
     "output_type": "execute_result"
    }
   ],
   "source": [
    "# Verificando se a ordem está correta\n",
    "df = df.sort_values(['Capacity'], ascending= False)\n",
    "df.head()"
   ]
  },
  {
   "cell_type": "code",
   "execution_count": 6,
   "id": "aad05859",
   "metadata": {},
   "outputs": [
    {
     "data": {
      "text/plain": [
       "(50, 9)"
      ]
     },
     "execution_count": 6,
     "metadata": {},
     "output_type": "execute_result"
    }
   ],
   "source": [
    "# Filtrando somente pelos 100 maiores estádios\n",
    "df = df.head(50)\n",
    "df.shape"
   ]
  },
  {
   "cell_type": "markdown",
   "id": "a7219278",
   "metadata": {},
   "source": [
    "## Load"
   ]
  },
  {
   "cell_type": "code",
   "execution_count": 7,
   "id": "26231dcf",
   "metadata": {},
   "outputs": [],
   "source": [
    "# Criando conexão com o banco de dados\n",
    "conn = sqlite3.connect('Top50Estadios.db')"
   ]
  },
  {
   "cell_type": "code",
   "execution_count": 8,
   "id": "86290803",
   "metadata": {},
   "outputs": [
    {
     "data": {
      "text/plain": [
       "50"
      ]
     },
     "execution_count": 8,
     "metadata": {},
     "output_type": "execute_result"
    }
   ],
   "source": [
    "# Criando um novo banco de dando\n",
    "df.to_sql('dados/Top50Estadios.db', conn, if_exists= 'replace', index= False)"
   ]
  },
  {
   "cell_type": "code",
   "execution_count": 9,
   "id": "ad4e0696",
   "metadata": {},
   "outputs": [],
   "source": [
    "# Fechando conexão\n",
    "conn.close()"
   ]
  },
  {
   "cell_type": "code",
   "execution_count": 10,
   "id": "582cbfef",
   "metadata": {},
   "outputs": [],
   "source": [
    "# Salvando em um novo csv\n",
    "df.to_csv('dados/Top50Estadios.csv', index= False)"
   ]
  },
  {
   "cell_type": "code",
   "execution_count": null,
   "id": "165fc947",
   "metadata": {},
   "outputs": [],
   "source": []
  }
 ],
 "metadata": {
  "kernelspec": {
   "display_name": "Python 3 (ipykernel)",
   "language": "python",
   "name": "python3"
  },
  "language_info": {
   "codemirror_mode": {
    "name": "ipython",
    "version": 3
   },
   "file_extension": ".py",
   "mimetype": "text/x-python",
   "name": "python",
   "nbconvert_exporter": "python",
   "pygments_lexer": "ipython3",
   "version": "3.9.13"
  }
 },
 "nbformat": 4,
 "nbformat_minor": 5
}
